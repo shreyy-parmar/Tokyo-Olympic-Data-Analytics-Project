{
 "cells": [
  {
   "cell_type": "code",
   "execution_count": 0,
   "metadata": {
    "application/vnd.databricks.v1+cell": {
     "cellMetadata": {
      "byteLimit": 2048000,
      "rowLimit": 10000
     },
     "inputWidgets": {},
     "nuid": "a13499f2-d62a-4815-bb4f-ea4b48d3c9e0",
     "showTitle": false,
     "tableResultSettingsMap": {},
     "title": ""
    }
   },
   "outputs": [],
   "source": [
    "# ---------------------------\n",
    "# 0. Configuration / Imports\n",
    "# ---------------------------\n",
    "from pyspark.sql import SparkSession\n",
    "from pyspark.sql.functions import col, when, lit\n",
    "import pandas as pd\n",
    "import numpy as np\n",
    "import os\n",
    "import mlflow\n",
    "import mlflow.sklearn\n",
    "from sklearn.model_selection import train_test_split, cross_val_score\n",
    "from sklearn.preprocessing import StandardScaler, OneHotEncoder\n",
    "from sklearn.compose import ColumnTransformer\n",
    "from sklearn.pipeline import Pipeline\n",
    "from sklearn.ensemble import RandomForestClassifier\n"
   ]
  },
  {
   "cell_type": "code",
   "execution_count": 0,
   "metadata": {
    "application/vnd.databricks.v1+cell": {
     "cellMetadata": {
      "byteLimit": 2048000,
      "rowLimit": 10000
     },
     "inputWidgets": {},
     "nuid": "a7b73686-64d6-4599-a5cb-0442fa7476b3",
     "showTitle": false,
     "tableResultSettingsMap": {},
     "title": ""
    }
   },
   "outputs": [],
   "source": [
    "spark.conf.set(\n",
    "  \"fs.azure.account.key.azuretokyoolympicdata.dfs.core.windows.net\",\n",
    "  \"il709x5Am4E5vC3mbjMutTyVhmkcI4x4SveasH1r2OG+ZdN0By7PAqNk72AIvSOKXjmifSIkklZy+AStcTjSpA==\"\n",
    ")"
   ]
  },
  {
   "cell_type": "code",
   "execution_count": 0,
   "metadata": {
    "application/vnd.databricks.v1+cell": {
     "cellMetadata": {
      "byteLimit": 2048000,
      "rowLimit": 10000
     },
     "inputWidgets": {},
     "nuid": "e7492120-cd9c-451d-a724-44d08649df81",
     "showTitle": false,
     "tableResultSettingsMap": {},
     "title": ""
    }
   },
   "outputs": [],
   "source": [
    "# RandomForestRegressor\n",
    "\n",
    "from sklearn.metrics import accuracy_score, precision_score, recall_score, f1_score\n",
    "from sklearn.metrics import mean_squared_error, mean_absolute_error, r2_score\n",
    "from sklearn.cluster import KMeans\n",
    "import matplotlib.pyplot as plt\n",
    "\n",
    "try:\n",
    "    import xgboost as xgb\n",
    "    XGBOOST_AVAILABLE = True\n",
    "except Exception:\n",
    "    XGBOOST_AVAILABLE = False\n",
    "\n",
    "try:\n",
    "    from prophet import Prophet\n",
    "    PROPHET_AVAILABLE = True\n",
    "except Exception:\n",
    "    PROPHET_AVAILABLE = False"
   ]
  },
  {
   "cell_type": "code",
   "execution_count": 0,
   "metadata": {
    "application/vnd.databricks.v1+cell": {
     "cellMetadata": {
      "byteLimit": 2048000,
      "rowLimit": 10000
     },
     "inputWidgets": {},
     "nuid": "68c3b3ae-9a5a-4884-8331-3eb97036b1e9",
     "showTitle": false,
     "tableResultSettingsMap": {},
     "title": ""
    }
   },
   "outputs": [],
   "source": [
    "# ---------------------------\n",
    "# 1. Paths & storage\n",
    "# ---------------------------\n",
    "STORAGE_ACCOUNT = \"azuretokyoolympicdata\" \n",
    "CONTAINER = \"gold\"\n",
    "GOLD_BASE = f\"abfss://tokyo-olympic-data@azuretokyoolympicdata.dfs.core.windows.net/olympic\"\n",
    "OUTPUT_PREDICTIONS_PATH = f\"{GOLD_BASE}/predictions\"\n",
    "MODEL_REGISTRY_NAME = \"olympic_models\"\n",
    "\n",
    "# Raw CSV paths (adjust if needed)\n",
    "medals_path = f\"abfss://tokyo-olympic-data@azuretokyoolympicdata.dfs.core.windows.net/transformed-data/medals/*.csv\"\n",
    "athletes_path = f\"abfss://tokyo-olympic-data@azuretokyoolympicdata.dfs.core.windows.net/transformed-data/athletes/*.csv\"\n",
    "teams_path = f\"abfss://tokyo-olympic-data@azuretokyoolympicdata.dfs.core.windows.net/transformed-data/teams/*.csv\"\n",
    "entriesgender_path = f\"abfss://tokyo-olympic-data@azuretokyoolympicdata.dfs.core.windows.net/transformed-data/entriesgender/*.csv\"\n",
    "coaches_path = f\"abfss://tokyo-olympic-data@azuretokyoolympicdata.dfs.core.windows.net/transformed-data/coaches/*.csv\"\n",
    "\n",
    "spark = SparkSession.builder.getOrCreate()"
   ]
  },
  {
   "cell_type": "code",
   "execution_count": 0,
   "metadata": {
    "application/vnd.databricks.v1+cell": {
     "cellMetadata": {
      "byteLimit": 2048000,
      "rowLimit": 10000
     },
     "inputWidgets": {},
     "nuid": "d418353b-0055-4b46-b3eb-2f119306d43e",
     "showTitle": false,
     "tableResultSettingsMap": {},
     "title": ""
    }
   },
   "outputs": [
    {
     "output_type": "stream",
     "name": "stdout",
     "output_type": "stream",
     "text": [
      "Loaded datasets:\nmedals: 93 rows\nathletes: 11085 rows\nteams: 743 rows\nentriesgender: 46 rows\ncoaches: 394 rows\n"
     ]
    }
   ],
   "source": [
    "# ---------------------------\n",
    "# 2. Load & merge datasets into one \"Gold\" dataset\n",
    "# ---------------------------\n",
    "\n",
    "# Load raw CSVs\n",
    "medals = spark.read.option(\"header\", True).option(\"inferSchema\", True).csv(medals_path)\n",
    "athletes = spark.read.option(\"header\", True).option(\"inferSchema\", True).csv(athletes_path)\n",
    "teams = spark.read.option(\"header\", True).option(\"inferSchema\", True).csv(teams_path)\n",
    "entriesgender = spark.read.option(\"header\", True).option(\"inferSchema\", True).csv(entriesgender_path)\n",
    "coaches = spark.read.option(\"header\", True).option(\"inferSchema\", True).csv(coaches_path)\n",
    "\n",
    "print(\"Loaded datasets:\")\n",
    "\n",
    "print(f\"medals: {medals.count()} rows\")\n",
    "print(f\"athletes: {athletes.count()} rows\")\n",
    "print(f\"teams: {teams.count()} rows\")\n",
    "print(f\"entriesgender: {entriesgender.count()} rows\")\n",
    "print(f\"coaches: {coaches.count()} rows\")"
   ]
  },
  {
   "cell_type": "code",
   "execution_count": 0,
   "metadata": {
    "application/vnd.databricks.v1+cell": {
     "cellMetadata": {
      "byteLimit": 2048000,
      "rowLimit": 10000
     },
     "inputWidgets": {},
     "nuid": "76dda918-8d19-4cb6-8fda-d2f2fee70540",
     "showTitle": false,
     "tableResultSettingsMap": {},
     "title": ""
    }
   },
   "outputs": [
    {
     "output_type": "stream",
     "name": "stdout",
     "output_type": "stream",
     "text": [
      "root\n |-- Rank: integer (nullable = true)\n |-- TeamCountry: string (nullable = true)\n |-- Gold: integer (nullable = true)\n |-- Silver: integer (nullable = true)\n |-- Bronze: integer (nullable = true)\n |-- Total: integer (nullable = true)\n |-- Rank by Total: integer (nullable = true)\n\nroot\n |-- PersonName: string (nullable = true)\n |-- Country: string (nullable = true)\n |-- Discipline: string (nullable = true)\n\nroot\n |-- TeamName: string (nullable = true)\n |-- Discipline: string (nullable = true)\n |-- Country: string (nullable = true)\n |-- Event: string (nullable = true)\n\nroot\n |-- Discipline: string (nullable = true)\n |-- Female: integer (nullable = true)\n |-- Male: integer (nullable = true)\n |-- Total: integer (nullable = true)\n\nroot\n |-- Name: string (nullable = true)\n |-- Country: string (nullable = true)\n |-- Discipline: string (nullable = true)\n |-- Event: string (nullable = true)\n\n"
     ]
    }
   ],
   "source": [
    "medals.printSchema()\n",
    "athletes.printSchema()\n",
    "teams.printSchema()\n",
    "entriesgender.printSchema()\n",
    "coaches.printSchema()"
   ]
  },
  {
   "cell_type": "code",
   "execution_count": 0,
   "metadata": {
    "application/vnd.databricks.v1+cell": {
     "cellMetadata": {
      "byteLimit": 2048000,
      "rowLimit": 10000
     },
     "inputWidgets": {},
     "nuid": "2538c8f7-abbb-419d-b4ee-62db3ec0241c",
     "showTitle": false,
     "tableResultSettingsMap": {},
     "title": ""
    }
   },
   "outputs": [
    {
     "output_type": "stream",
     "name": "stdout",
     "output_type": "stream",
     "text": [
      "Unified dataset count: 1123\n"
     ]
    }
   ],
   "source": [
    "from pyspark.sql.functions import col\n",
    "\n",
    "medals_alias = medals.alias(\"m\")\n",
    "teams_alias = teams.alias(\"t\")\n",
    "entriesgender_alias = entriesgender.alias(\"eg\")\n",
    "coaches_alias = coaches.alias(\"c\")\n",
    "\n",
    "# Join medals with teams on TeamCountry == Country\n",
    "medals_teams = medals_alias.join(\n",
    "    teams_alias,\n",
    "    col(\"m.TeamCountry\") == col(\"t.Country\"),\n",
    "    \"left\"\n",
    ")\n",
    "\n",
    "# Join with entriesgender on Discipline only (since no Country in entriesgender)\n",
    "medals_teams_gender = medals_teams.join(\n",
    "    entriesgender_alias,\n",
    "    col(\"t.Discipline\") == col(\"eg.Discipline\"),\n",
    "    \"left\"\n",
    ")\n",
    "\n",
    "# Join with coaches on TeamCountry and Discipline\n",
    "medals_full = medals_teams_gender.join(\n",
    "    coaches_alias,\n",
    "    (col(\"m.TeamCountry\") == col(\"c.Country\")) & (col(\"t.Discipline\") == col(\"c.Discipline\")),\n",
    "    \"left\"\n",
    ")\n",
    "\n",
    "medals_full.cache()\n",
    "print(\"Unified dataset count:\", medals_full.count())\n"
   ]
  },
  {
   "cell_type": "code",
   "execution_count": 0,
   "metadata": {
    "application/vnd.databricks.v1+cell": {
     "cellMetadata": {
      "byteLimit": 2048000,
      "rowLimit": 10000
     },
     "inputWidgets": {},
     "nuid": "8324c239-98ae-4452-99ca-88424bf0d4c9",
     "showTitle": false,
     "tableResultSettingsMap": {},
     "title": ""
    }
   },
   "outputs": [
    {
     "output_type": "stream",
     "name": "stdout",
     "output_type": "stream",
     "text": [
      "Converting unified dataset to pandas (sample for ML)...\nPandas dataset shape: (1123, 19)\n"
     ]
    }
   ],
   "source": [
    "# ---------------------------\n",
    "# 3. Convert unified Spark DataFrame to pandas for sklearn-based ML\n",
    "# ---------------------------\n",
    "print(\"Converting unified dataset to pandas (sample for ML)...\")\n",
    "df = medals_full.toPandas()\n",
    "print(f\"Pandas dataset shape: {df.shape}\")"
   ]
  },
  {
   "cell_type": "code",
   "execution_count": 0,
   "metadata": {
    "application/vnd.databricks.v1+cell": {
     "cellMetadata": {
      "byteLimit": 2048000,
      "rowLimit": 10000
     },
     "inputWidgets": {},
     "nuid": "4865c25c-1de4-42cf-ac19-09d2e79a5bd5",
     "showTitle": false,
     "tableResultSettingsMap": {},
     "title": ""
    }
   },
   "outputs": [
    {
     "output_type": "stream",
     "name": "stdout",
     "output_type": "stream",
     "text": [
      "['rank', 'teamcountry', 'gold', 'silver', 'bronze', 'total', 'rank by total', 'teamname', 'discipline', 'country', 'event', 'discipline', 'female', 'male', 'total', 'name', 'country', 'discipline', 'event']\n"
     ]
    }
   ],
   "source": [
    "df.columns = [c.strip().lower() for c in df.columns]\n",
    "print(df.columns.tolist())"
   ]
  },
  {
   "cell_type": "code",
   "execution_count": 0,
   "metadata": {
    "application/vnd.databricks.v1+cell": {
     "cellMetadata": {
      "byteLimit": 2048000,
      "rowLimit": 10000
     },
     "inputWidgets": {},
     "nuid": "993ff229-5a8b-47da-ba9e-c8fe4b34484a",
     "showTitle": false,
     "tableResultSettingsMap": {},
     "title": ""
    }
   },
   "outputs": [
    {
     "output_type": "stream",
     "name": "stdout",
     "output_type": "stream",
     "text": [
      "Numeric features: ['gold', 'silver', 'bronze', 'total', 'rank', 'rank by total', 'female', 'male']\nCategorical features: ['teamcountry', 'teamname', 'discipline', 'country', 'event', 'name']\n"
     ]
    }
   ],
   "source": [
    "# List of numeric features to look for\n",
    "numeric_candidates = ['age', 'height', 'weight', 'gold', 'silver', 'bronze', 'total', 'rank', 'rank by total', 'female', 'male']\n",
    "\n",
    "FEATURES = [col for col in numeric_candidates if col in df.columns]\n",
    "\n",
    "# List of categorical features to look for\n",
    "categorical_candidates = ['gender', 'noc', 'sport', 'teamcountry', 'teamname', 'discipline', 'country', 'event', 'name']\n",
    "\n",
    "CATEGORICALS = [col for col in categorical_candidates if col in df.columns]\n",
    "\n",
    "print(\"Numeric features:\", FEATURES)\n",
    "print(\"Categorical features:\", CATEGORICALS)"
   ]
  },
  {
   "cell_type": "code",
   "execution_count": 0,
   "metadata": {
    "application/vnd.databricks.v1+cell": {
     "cellMetadata": {
      "byteLimit": 2048000,
      "rowLimit": 10000
     },
     "inputWidgets": {},
     "nuid": "b632e954-0e4a-41d1-9e4b-2f960328c940",
     "showTitle": false,
     "tableResultSettingsMap": {},
     "title": ""
    }
   },
   "outputs": [
    {
     "output_type": "stream",
     "name": "stdout",
     "output_type": "stream",
     "text": [
      "Created 'medal_count' column. Sample values:\n 1    580\nName: medal_count, dtype: int64\nNumeric features: ['gold', 'silver', 'bronze', 'total', 'rank', 'rank by total', 'female', 'male']\nCategorical features: ['teamcountry', 'teamname', 'discipline', 'country', 'event', 'name']\n"
     ]
    },
    {
     "output_type": "stream",
     "name": "stderr",
     "output_type": "stream",
     "text": [
      "2025/08/10 20:51:53 WARNING mlflow.models.model: `artifact_path` is deprecated. Please use `name` instead.\n\uD83D\uDD17 View Logged Model at: https://adb-3583576529151293.13.azuredatabricks.net/ml/experiments/2893871645191245/models/m-c6db064cf1104d6ebbcc2c313db4da30?o=3583576529151293\n2025/08/10 20:51:59 WARNING mlflow.utils.environment: Encountered an unexpected error while inferring pip requirements (model URI: /local_disk0/repl_tmp_data/ReplId-698bb-d8807-3d91f-b/tmpc0fdeknr/model/model.pkl, flavor: sklearn). Fall back to return ['scikit-learn==1.0.2', 'cloudpickle==3.1.1']. Set logging level to DEBUG to see the full traceback. \n\u001B[31m2025/08/10 20:51:59 WARNING mlflow.models.model: Model logged without a signature and input example. Please set `input_example` parameter when logging the model to auto infer the model signature.\u001B[0m\n"
     ]
    },
    {
     "output_type": "stream",
     "name": "stdout",
     "output_type": "stream",
     "text": [
      "Regression results -> RMSE: 0.0000, MAE: 0.0000, R2: 1.0000\n"
     ]
    },
    {
     "output_type": "display_data",
     "data": {
      "image/png": "[encoded data removed]"
     },
     "metadata": {
      "application/vnd.databricks.v1+output": {
       "addedWidgets": {},
       "arguments": {},
       "data": "data:image/png;base64,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\n",
       "datasetInfos": [],
       "metadata": {},
       "removedWidgets": [],
       "type": "image"
      }
     },
     "output_type": "display_data"
    },
    {
     "output_type": "stream",
     "name": "stdout",
     "output_type": "stream",
     "text": [
      "Saved regression predictions to: abfss://tokyo-olympic-data@azuretokyoolympicdata.dfs.core.windows.net/olympic/predictions/regression_medal_predictions.csv\n"
     ]
    }
   ],
   "source": [
    "import os\n",
    "import mlflow\n",
    "import mlflow.sklearn\n",
    "import matplotlib.pyplot as plt\n",
    "from sklearn.pipeline import Pipeline\n",
    "from sklearn.compose import ColumnTransformer\n",
    "from sklearn.preprocessing import StandardScaler, OneHotEncoder\n",
    "from sklearn.ensemble import RandomForestRegressor\n",
    "from sklearn.model_selection import train_test_split\n",
    "from sklearn.metrics import mean_squared_error, mean_absolute_error, r2_score\n",
    "\n",
    "# --- Create binary target column: medal_count ---\n",
    "df['medal_count'] = ((df['gold'] > 0) | (df['silver'] > 0) | (df['bronze'] > 0)).astype(int)\n",
    "print(\"Created 'medal_count' column. Sample values:\\n\", df['medal_count'].value_counts())\n",
    "\n",
    "# --- Define features ---\n",
    "numeric_candidates = ['age', 'height', 'weight', 'gold', 'silver', 'bronze', 'total', 'rank', 'rank by total', 'female', 'male']\n",
    "categorical_candidates = ['gender', 'noc', 'sport', 'teamcountry', 'teamname', 'discipline', 'country', 'event', 'name']\n",
    "\n",
    "FEATURES = [col for col in numeric_candidates if col in df.columns]\n",
    "CATEGORICALS = [col for col in categorical_candidates if col in df.columns]\n",
    "\n",
    "print(\"Numeric features:\", FEATURES)\n",
    "print(\"Categorical features:\", CATEGORICALS)\n",
    "\n",
    "# --- Prepare data for regression ---\n",
    "if 'medal_count' not in df.columns:\n",
    "    print(\"Medal_Count column not found, cannot run regression.\")\n",
    "elif len(FEATURES) + len(CATEGORICALS) == 0:\n",
    "    print(\"No features found for regression.\")\n",
    "else:\n",
    "    X = df[FEATURES + CATEGORICALS]\n",
    "    y = df['medal_count'].values.ravel()  # ensure 1D target\n",
    "\n",
    "    numeric_transformer = Pipeline([('scaler', StandardScaler())])\n",
    "    categorical_transformer = Pipeline([('ohe', OneHotEncoder(handle_unknown='ignore'))])\n",
    "\n",
    "    transformers = []\n",
    "    if FEATURES:\n",
    "        transformers.append(('num', numeric_transformer, FEATURES))\n",
    "    if CATEGORICALS:\n",
    "        transformers.append(('cat', categorical_transformer, CATEGORICALS))\n",
    "\n",
    "    preprocessor = ColumnTransformer(transformers=transformers)\n",
    "\n",
    "    regressor = RandomForestRegressor(n_estimators=100, random_state=42)\n",
    "    # Uncomment below to use XGBoost if available:\n",
    "    # if XGBOOST_AVAILABLE:\n",
    "    #     regressor = xgb.XGBRegressor(objective='reg:squarederror', random_state=42)\n",
    "\n",
    "    reg_pipeline = Pipeline(steps=[('preprocessor', preprocessor), ('regressor', regressor)])\n",
    "\n",
    "    X_train, X_test, y_train, y_test = train_test_split(X, y, test_size=0.2, random_state=42)\n",
    "\n",
    "    mlflow.set_experiment('/Workspace/Users/shreyparmar.ca@gmail.com/Olympic-ML')\n",
    "    with mlflow.start_run(run_name='regression_medal_count'):\n",
    "        reg_pipeline.fit(X_train, y_train)\n",
    "        y_pred = reg_pipeline.predict(X_test)\n",
    "\n",
    "        rmse = mean_squared_error(y_test, y_pred, squared=False)\n",
    "        mae = mean_absolute_error(y_test, y_pred)\n",
    "        r2 = r2_score(y_test, y_pred)\n",
    "\n",
    "        mlflow.log_metric('rmse', float(rmse))\n",
    "        mlflow.log_metric('mae', float(mae))\n",
    "        mlflow.log_metric('r2', float(r2))\n",
    "        mlflow.sklearn.log_model(reg_pipeline, 'regression_medal_pipeline')\n",
    "\n",
    "    print(f\"Regression results -> RMSE: {rmse:.4f}, MAE: {mae:.4f}, R2: {r2:.4f}\")\n",
    "\n",
    "    residuals = y_test - y_pred\n",
    "    plt.figure(figsize=(6,4))\n",
    "    plt.scatter(y_pred, residuals)\n",
    "    plt.axhline(0, color='black', linewidth=1)\n",
    "    plt.xlabel('Predicted')\n",
    "    plt.ylabel('Residuals')\n",
    "    plt.title('Residuals vs Predicted (Regression)')\n",
    "    plt.show()\n",
    "\n",
    "    preds_df = X_test.copy()\n",
    "    preds_df['actual_medal_count'] = y_test\n",
    "    preds_df['predicted_medal_count'] = y_pred\n",
    "\n",
    "    # Add extra columns if available\n",
    "    for col in ['athlete_id', 'athlete', 'country', 'noc']:\n",
    "        if col in df.columns and col not in preds_df.columns:\n",
    "            preds_df[col] = df.loc[X_test.index, col].values\n",
    "\n",
    "    out_path = os.path.join(OUTPUT_PREDICTIONS_PATH, 'regression_medal_predictions.csv')\n",
    "    preds_spark = spark.createDataFrame(preds_df)\n",
    "    preds_spark.write.mode('overwrite').option('header', True).csv(out_path)\n",
    "    print('Saved regression predictions to:', out_path)\n"
   ]
  },
  {
   "cell_type": "code",
   "execution_count": 0,
   "metadata": {
    "application/vnd.databricks.v1+cell": {
     "cellMetadata": {
      "byteLimit": 2048000,
      "rowLimit": 10000
     },
     "inputWidgets": {},
     "nuid": "0484c786-7b42-41e5-afc9-aa86e5ee8796",
     "showTitle": false,
     "tableResultSettingsMap": {},
     "title": ""
    }
   },
   "outputs": [
    {
     "output_type": "stream",
     "name": "stdout",
     "output_type": "stream",
     "text": [
      "Cross-val R2 scores: [1. 1. 1. 1. 1.]\nMean R2: 1.0\n"
     ]
    }
   ],
   "source": [
    "from sklearn.model_selection import cross_val_score\n",
    "import numpy as np\n",
    "\n",
    "scores = cross_val_score(reg_pipeline, X.fillna(0), y, cv=5, scoring='r2')\n",
    "print('Cross-val R2 scores:', scores)\n",
    "print('Mean R2:', np.mean(scores))"
   ]
  },
  {
   "cell_type": "code",
   "execution_count": 0,
   "metadata": {
    "application/vnd.databricks.v1+cell": {
     "cellMetadata": {
      "byteLimit": 2048000,
      "rowLimit": 10000
     },
     "inputWidgets": {},
     "nuid": "70889dd7-608a-44f6-8cb3-f87f1aa42759",
     "showTitle": false,
     "tableResultSettingsMap": {},
     "title": ""
    }
   },
   "outputs": [
    {
     "output_type": "stream",
     "name": "stdout",
     "output_type": "stream",
     "text": [
      "              precision    recall  f1-score   support\n\n           1       1.00      1.00      1.00       116\n\n    accuracy                           1.00       116\n   macro avg       1.00      1.00      1.00       116\nweighted avg       1.00      1.00      1.00       116\n\n"
     ]
    }
   ],
   "source": [
    "import pandas as pd\n",
    "from sklearn.pipeline import Pipeline\n",
    "from sklearn.compose import ColumnTransformer\n",
    "from sklearn.preprocessing import StandardScaler, OneHotEncoder\n",
    "from sklearn.ensemble import RandomForestClassifier\n",
    "from sklearn.model_selection import train_test_split\n",
    "from sklearn.metrics import classification_report\n",
    "\n",
    "# Create binary target\n",
    "df['won_medal'] = ((df['gold'] > 0) | (df['silver'] > 0) | (df['bronze'] > 0)).astype(int)\n",
    "\n",
    "# Features excluding medal count columns to prevent leakage\n",
    "FEATURES = [c for c in ['rank', 'rank by total', 'female', 'male'] if c in df.columns]\n",
    "CATEGORICALS = [c for c in ['teamcountry', 'teamname', 'discipline', 'country', 'event', 'name'] if c in df.columns]\n",
    "\n",
    "X = df[FEATURES + CATEGORICALS]\n",
    "y = df['won_medal']\n",
    "\n",
    "# Preprocessing pipelines\n",
    "numeric_transformer = Pipeline([('scaler', StandardScaler())])\n",
    "categorical_transformer = Pipeline([('onehot', OneHotEncoder(handle_unknown='ignore'))])\n",
    "\n",
    "preprocessor = ColumnTransformer(transformers=[\n",
    "    ('num', numeric_transformer, FEATURES),\n",
    "    ('cat', categorical_transformer, CATEGORICALS),\n",
    "])\n",
    "\n",
    "# Model pipeline\n",
    "clf = RandomForestClassifier(random_state=42)\n",
    "pipeline = Pipeline(steps=[('preprocessor', preprocessor), ('classifier', clf)])\n",
    "\n",
    "# Train/test split\n",
    "X_train, X_test, y_train, y_test = train_test_split(X, y, test_size=0.2, random_state=42)\n",
    "\n",
    "# Train and evaluate\n",
    "pipeline.fit(X_train, y_train)\n",
    "y_pred = pipeline.predict(X_test)\n",
    "\n",
    "print(classification_report(y_test, y_pred))\n"
   ]
  },
  {
   "cell_type": "code",
   "execution_count": 0,
   "metadata": {
    "application/vnd.databricks.v1+cell": {
     "cellMetadata": {
      "byteLimit": 2048000,
      "rowLimit": 10000
     },
     "inputWidgets": {},
     "nuid": "b1faea5c-68b4-40f9-aa52-8dae2ee7e3a6",
     "showTitle": false,
     "tableResultSettingsMap": {},
     "title": ""
    }
   },
   "outputs": [
    {
     "output_type": "stream",
     "name": "stdout",
     "output_type": "stream",
     "text": [
      "\n--- Clustering: KMeans on aggregated country metrics ---\n     country  total_medals  athlete_count  cluster\n0  Argentina            16             16        2\n1  Australia            41             41        1\n2    Austria             3              3        0\n3    Bahrain             1              1        0\n4    Belarus             1              1        0\nSaved country clusters to: abfss://tokyo-olympic-data@azuretokyoolympicdata.dfs.core.windows.net/olympic/predictions/country_clusters.csv\n"
     ]
    }
   ],
   "source": [
    "# ---------------------------\n",
    "# 7. Clustering (KMeans) on country-level aggregated data\n",
    "# ---------------------------\n",
    "print('\\n--- Clustering: KMeans on aggregated country metrics ---')\n",
    "\n",
    "if 'country' in df.columns:\n",
    "    group = df.groupby('country')\n",
    "\n",
    "    # Aggregate medal count and athlete count\n",
    "    country_df = group.agg({'medal_count': 'sum'}).rename(columns={'medal_count': 'total_medals'})\n",
    "    country_df['athlete_count'] = group.size()\n",
    "\n",
    "    # Optional: average age if available\n",
    "    if 'age' in df.columns:\n",
    "        country_df['mean_age'] = group['age'].mean()\n",
    "\n",
    "    country_df = country_df.fillna(0).reset_index()\n",
    "\n",
    "    cluster_features = ['total_medals', 'athlete_count'] + (['mean_age'] if 'mean_age' in country_df.columns else [])\n",
    "    X_cluster = country_df[cluster_features]\n",
    "\n",
    "    # Standardize features before clustering\n",
    "    scaler = StandardScaler()\n",
    "    X_scaled = scaler.fit_transform(X_cluster)\n",
    "\n",
    "    # Perform KMeans clustering\n",
    "    k = 4  # Number of clusters, you can adjust this\n",
    "    kmeans = KMeans(n_clusters=k, random_state=42)\n",
    "    cluster_labels = kmeans.fit_predict(X_scaled)\n",
    "\n",
    "    country_df['cluster'] = cluster_labels\n",
    "    print(country_df.head())\n",
    "\n",
    "    # Save results to storage\n",
    "    out_path = os.path.join(OUTPUT_PREDICTIONS_PATH, 'country_clusters.csv')\n",
    "    cluster_spark = spark.createDataFrame(country_df)\n",
    "    cluster_spark.write.mode('overwrite').option('header', True).csv(out_path)\n",
    "    print('Saved country clusters to:', out_path)\n",
    "else:\n",
    "    print('Skipping clustering: country column not found.')\n"
   ]
  },
  {
   "cell_type": "code",
   "execution_count": 0,
   "metadata": {
    "application/vnd.databricks.v1+cell": {
     "cellMetadata": {
      "byteLimit": 2048000,
      "rowLimit": 10000
     },
     "inputWidgets": {},
     "nuid": "e2849695-e438-49ab-8056-6a30316b53c8",
     "showTitle": false,
     "tableResultSettingsMap": {},
     "title": ""
    }
   },
   "outputs": [
    {
     "output_type": "stream",
     "name": "stdout",
     "output_type": "stream",
     "text": [
      "\n--- Time Series Forecasting: Example per-country using Prophet (if available) ---\nYear column missing in pandas df; attempting to add from medals Spark DataFrame...\nMedals Spark DataFrame has no 'Year' column, cannot add year to pandas df.\nSkipping time-series: Prophet not available or required columns missing.\n"
     ]
    }
   ],
   "source": [
    "# ---------------------------\n",
    "# 8. Time Series Forecasting (Prophet)\n",
    "# ---------------------------\n",
    "print('\\n--- Time Series Forecasting: Example per-country using Prophet (if available) ---')\n",
    "\n",
    "# Check if 'year' column exists in pandas df\n",
    "if 'year' not in df.columns:\n",
    "    print(\"Year column missing in pandas df; attempting to add from medals Spark DataFrame...\")\n",
    "\n",
    "    # medals columns you showed do NOT have 'Discipline' or 'Year' so try to find a suitable alternative\n",
    "    # Here, check for 'Year' column first — if not present, print message and skip\n",
    "    if 'Year' in medals.columns:\n",
    "        # medals has 'TeamCountry' but no 'Discipline', so join only on 'teamcountry'\n",
    "        medals_year_df = medals.select(\"TeamCountry\", \"Year\").distinct()\n",
    "        medals_year_pd = medals_year_df.toPandas()\n",
    "        medals_year_pd.columns = [c.strip().lower() for c in medals_year_pd.columns]\n",
    "\n",
    "        # Merge pandas df with medals_year_pd on 'teamcountry'\n",
    "        if 'teamcountry' in df.columns and 'teamcountry' in medals_year_pd.columns:\n",
    "            df = df.merge(medals_year_pd, how='left', on='teamcountry')\n",
    "            print(\"Merged 'year' into pandas df on 'teamcountry'. Null year count:\", df['year'].isnull().sum())\n",
    "        else:\n",
    "            print(\"Cannot merge year: 'teamcountry' missing in either dataframe.\")\n",
    "    else:\n",
    "        print(\"Medals Spark DataFrame has no 'Year' column, cannot add year to pandas df.\")\n",
    "\n",
    "# Proceed if all required columns are present\n",
    "if PROPHET_AVAILABLE and 'year' in df.columns and 'country' in df.columns and 'medal_count' in df.columns:\n",
    "    # Select first non-null country for example\n",
    "    country_example = df['country'].dropna().iloc[0]\n",
    "\n",
    "    ts = df[df['country'] == country_example].groupby('year').agg({'medal_count': 'sum'}).reset_index()\n",
    "    ts = ts.rename(columns={'year': 'ds', 'medal_count': 'y'})\n",
    "    ts['ds'] = pd.to_datetime(ts['ds'].astype(str) + '-01-01')\n",
    "\n",
    "    m = Prophet()\n",
    "    m.fit(ts)\n",
    "\n",
    "    future = m.make_future_dataframe(periods=8, freq='YS')  # yearly start frequency\n",
    "    forecast = m.predict(future)\n",
    "\n",
    "    fig = m.plot(forecast)\n",
    "    plt.title(f'Forecasted Medal Count for {country_example}')\n",
    "    plt.show()\n",
    "\n",
    "    forecast_df = forecast[['ds', 'yhat', 'yhat_lower', 'yhat_upper']].copy()\n",
    "    forecast_df['country'] = country_example\n",
    "\n",
    "    out_path = os.path.join(OUTPUT_PREDICTIONS_PATH, f'forecast_{country_example}.csv')\n",
    "    spark.createDataFrame(forecast_df).write.mode('overwrite').option('header', True).csv(out_path)\n",
    "    print('Saved time series forecast for', country_example)\n",
    "else:\n",
    "    print('Skipping time-series: Prophet not available or required columns missing.')\n"
   ]
  },
  {
   "cell_type": "code",
   "execution_count": 0,
   "metadata": {
    "application/vnd.databricks.v1+cell": {
     "cellMetadata": {
      "byteLimit": 2048000,
      "rowLimit": 10000
     },
     "inputWidgets": {},
     "nuid": "442753a5-1733-4e7c-8da9-cc238c627c57",
     "showTitle": false,
     "tableResultSettingsMap": {},
     "title": ""
    }
   },
   "outputs": [
    {
     "output_type": "stream",
     "name": "stdout",
     "output_type": "stream",
     "text": [
      "\n--- Cross-validation example (Regression) ---\nSkipping cross-validation example (no Medal_Count/features).\n\nNotebook completed.\n\n"
     ]
    }
   ],
   "source": [
    "# ---------------------------\n",
    "# 9. Cross-validation example (Regression)\n",
    "# ---------------------------\n",
    "print('\\n--- Cross-validation example (Regression) ---')\n",
    "if 'Medal_Count' in df.columns and len(FEATURES) > 0:\n",
    "    scores = cross_val_score(reg_pipeline, X.fillna(0), y, cv=5, scoring='r2')\n",
    "    print('Cross-val R2 scores:', scores)\n",
    "    print('Mean R2:', np.mean(scores))\n",
    "else:\n",
    "    print('Skipping cross-validation example (no Medal_Count/features).')\n",
    "\n",
    "print('\\nNotebook completed.\\n')"
   ]
  }
 ],
 "metadata": {
  "application/vnd.databricks.v1+notebook": {
   "computePreferences": null,
   "dashboards": [],
   "environmentMetadata": {
    "base_environment": "",
    "environment_version": "2"
   },
   "inputWidgetPreferences": null,
   "language": "python",
   "notebookMetadata": {
    "pythonIndentUnit": 4
   },
   "notebookName": "Olympic-ML",
   "widgets": {}
  },
  "language_info": {
   "name": "python"
  }
 },
 "nbformat": 4,
 "nbformat_minor": 0
}